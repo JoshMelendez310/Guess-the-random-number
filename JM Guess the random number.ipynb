{
 "cells": [
  {
   "cell_type": "code",
   "execution_count": 1,
   "metadata": {},
   "outputs": [
    {
     "name": "stdout",
     "output_type": "stream",
     "text": [
      "Try and guess the number. Pick a number between 1 and 10 1\n",
      "Your guess was too low. Try again\n",
      "Try and guess the number. Pick a number between 1 and 10 9\n",
      "Your guess was too high. Try again\n",
      "Try and guess the number. Pick a number between 1 and 10 5\n",
      "Your guess was too high. Try again\n",
      "Try and guess the number. Pick a number between 1 and 10 4\n",
      "Your guess was too high. Try again\n",
      "Try and guess the number. Pick a number between 1 and 10 3\n",
      "Your guess was too high. Try again\n",
      "Try and guess the number. Pick a number between 1 and 10 2\n",
      "Good job! You have guessed the number.\n"
     ]
    }
   ],
   "source": [
    "import random\n",
    "random_num=random.randint(1,10)\n",
    "\n",
    "while True:\n",
    "    \n",
    "    guess=input('Try and guess the number. Pick a number between 1 and 10 ')\n",
    "    guess_num=int(guess)\n",
    "    while guess_num!=random_num:\n",
    "        if random_num>guess_num:\n",
    "            print('Your guess was too low. Try again')\n",
    "            break\n",
    "        elif random_num<guess_num:\n",
    "            print('Your guess was too high. Try again')\n",
    "            break\n",
    "    if random_num==guess_num:\n",
    "        print('Good job! You have guessed the number.')\n",
    "        break"
   ]
  }
 ],
 "metadata": {
  "kernelspec": {
   "display_name": "Python 3",
   "language": "python",
   "name": "python3"
  },
  "language_info": {
   "codemirror_mode": {
    "name": "ipython",
    "version": 3
   },
   "file_extension": ".py",
   "mimetype": "text/x-python",
   "name": "python",
   "nbconvert_exporter": "python",
   "pygments_lexer": "ipython3",
   "version": "3.7.3"
  }
 },
 "nbformat": 4,
 "nbformat_minor": 2
}
